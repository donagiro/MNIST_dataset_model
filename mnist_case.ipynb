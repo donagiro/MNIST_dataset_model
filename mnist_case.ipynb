{
 "cells": [
  {
   "cell_type": "code",
   "execution_count": 1,
   "metadata": {},
   "outputs": [],
   "source": [
    "#import necessary packages\n",
    "import pandas as pd\n",
    "import numpy as np\n",
    "import seaborn as sns \n",
    "from scipy.stats import multivariate_normal as mvn\n",
    "import matplotlib.pyplot as plt \n",
    "%matplotlib inline"
   ]
  },
  {
   "cell_type": "code",
   "execution_count": 2,
   "metadata": {},
   "outputs": [],
   "source": [
    "#load all the necessary files for EDA, modelling and coding\n",
    "train = pd.read_csv(\"./input/MNIST_train.csv\")\n",
    "test = pd.read_csv(\"./input/MNIST_test.csv\")"
   ]
  },
  {
   "cell_type": "code",
   "execution_count": 3,
   "metadata": {},
   "outputs": [
    {
     "data": {
      "text/plain": [
       "(60000, 787)"
      ]
     },
     "execution_count": 3,
     "metadata": {},
     "output_type": "execute_result"
    }
   ],
   "source": [
    "train.shape"
   ]
  },
  {
   "cell_type": "code",
   "execution_count": 4,
   "metadata": {},
   "outputs": [],
   "source": [
    "#drop first two columns that aren't needed\n",
    "train.drop(['Unnamed: 0', 'index'], axis=1, inplace=True)\n",
    "test.drop(['Unnamed: 0', 'index'], axis=1, inplace=True)\n",
    "\n",
    "#allocate prediction_target and features for TRAINING AND VALIDATING\n",
    "#normalizing integers to range between 0-1\n",
    "trainy = train.iloc[:,0].values\n",
    "trainX = train.iloc[:,1:].values/255\n",
    "\n",
    "#allocate prediction_target and features for TESTING\n",
    "#normalizing integers to range between 0-1\n",
    "y_test= test.iloc[:,0].values\n",
    "X_test = test.iloc[:,1:].values/255"
   ]
  },
  {
   "cell_type": "code",
   "execution_count": 5,
   "metadata": {},
   "outputs": [
    {
     "data": {
      "text/plain": [
       "((48000,), (48000, 784), (12000,), (12000, 784))"
      ]
     },
     "execution_count": 5,
     "metadata": {},
     "output_type": "execute_result"
    }
   ],
   "source": [
    "# split DATA into TRAINING AND VALIDATING sets\n",
    "y_train = trainy[0:48000,]\n",
    "X_train = trainX[0:48000,]\n",
    "y_val = trainy[48000:,]\n",
    "X_val= trainX[48000:,]\n",
    "\n",
    "# check dimensions of new set\n",
    "y_train.shape, X_train.shape, y_val.shape, X_val.shape"
   ]
  },
  {
   "cell_type": "code",
   "execution_count": 6,
   "metadata": {},
   "outputs": [
    {
     "data": {
      "text/plain": [
       "array([[0., 0., 0., ..., 0., 0., 0.],\n",
       "       [0., 0., 0., ..., 0., 0., 0.],\n",
       "       [0., 0., 0., ..., 0., 0., 0.],\n",
       "       ...,\n",
       "       [0., 0., 0., ..., 0., 0., 0.],\n",
       "       [0., 0., 0., ..., 0., 0., 0.],\n",
       "       [0., 0., 0., ..., 0., 0., 0.]])"
      ]
     },
     "execution_count": 6,
     "metadata": {},
     "output_type": "execute_result"
    }
   ],
   "source": [
    "#inspect training features\n",
    "X_train"
   ]
  },
  {
   "cell_type": "code",
   "execution_count": 7,
   "metadata": {},
   "outputs": [],
   "source": [
    "#Gauss Bayesian model to predict values from the MNIST dataset\n",
    "class GaussBayes():\n",
    "    \n",
    "    def fit(self, X,y, epsilon = 1e-3):\n",
    "        self.likelihoods = dict()\n",
    "        self.priors = dict()\n",
    "        \n",
    "        self.K = set(y.astype(int))\n",
    "        \n",
    "        for k in self.K:\n",
    "            X_k = X[y==k, :]\n",
    "            N_k , D = X_k.shape\n",
    "            mu_k = X_k.mean(axis=0)\n",
    "            self.likelihoods[k] = {\"mean\":X_k.mean(axis = 0), \"cov\":(1/(N_k-1))*np.matmul((X_k-mu_k).T,X_k-mu_k)+epsilon*np.identity(D)}\n",
    "            self.priors[k] = len(X_k)/len(X) \n",
    "            \n",
    "    def predict(self,X):\n",
    "        \n",
    "        N,D = X.shape\n",
    "        p_hat = np.zeros((N, len(self.K)))\n",
    "        for k, l  in self.likelihoods.items():\n",
    "            p_hat[:,k] = mvn.logpdf(X, l[\"mean\"], l[\"cov\"])+ np.log(self.priors[k])\n",
    "            \n",
    "        return p_hat.argmax(axis=1)"
   ]
  },
  {
   "cell_type": "code",
   "execution_count": 8,
   "metadata": {},
   "outputs": [],
   "source": [
    "#allocating model/class to variable\n",
    "gnb = GaussBayes()"
   ]
  },
  {
   "cell_type": "code",
   "execution_count": 9,
   "metadata": {},
   "outputs": [],
   "source": [
    "#calling the fit function to train the model\n",
    "gnb.fit(X_train, y_train)"
   ]
  },
  {
   "cell_type": "code",
   "execution_count": 10,
   "metadata": {},
   "outputs": [],
   "source": [
    "#calling the predict function to predict values given a set of data\n",
    "y_hat = gnb.predict(X_val)"
   ]
  },
  {
   "cell_type": "code",
   "execution_count": 11,
   "metadata": {},
   "outputs": [],
   "source": [
    "#defining function to calculate accuracy of the model\n",
    "def accuracy(y, y_hat):\n",
    "    return np.mean(y==y_hat)"
   ]
  },
  {
   "cell_type": "code",
   "execution_count": 12,
   "metadata": {},
   "outputs": [
    {
     "data": {
      "text/plain": [
       "0.9103333333333333"
      ]
     },
     "execution_count": 12,
     "metadata": {},
     "output_type": "execute_result"
    }
   ],
   "source": [
    "# calculate accuracy of y_hat values\n",
    "accuracy(y_val, y_hat)"
   ]
  },
  {
   "cell_type": "code",
   "execution_count": 13,
   "metadata": {},
   "outputs": [],
   "source": [
    "#calling the predict function to predict values given a set of data\n",
    "y_hat2 = gnb.predict(X_test)"
   ]
  },
  {
   "cell_type": "code",
   "execution_count": 14,
   "metadata": {},
   "outputs": [
    {
     "data": {
      "text/plain": [
       "0.9103"
      ]
     },
     "execution_count": 14,
     "metadata": {},
     "output_type": "execute_result"
    }
   ],
   "source": [
    "# calculate accuracy of y_hat2 values\n",
    "accuracy(y_test, y_hat2)"
   ]
  },
  {
   "cell_type": "markdown",
   "metadata": {},
   "source": [
    "<b>EXPLORE THE DATA USING SOME VISUALIZATIONS<b>"
   ]
  },
  {
   "cell_type": "code",
   "execution_count": 15,
   "metadata": {},
   "outputs": [],
   "source": [
    "#function to plot image of number from MNIST dataset when given an index\n",
    "def num_gen(zex):\n",
    "    #plot a number image from a given row indicated by idx \n",
    "    plt.figure(figsize=(7,7))\n",
    "    idx = zex\n",
    "    \n",
    "    #reshape from one dimension to two dimension\n",
    "    #grid_data = X_train.iloc[idx,].values.reshape(28,28)\n",
    "    grid_data = X_train[idx,].reshape(28,28)\n",
    "    plt.imshow(grid_data, interpolation = \"none\", cmap=\"viridis\")\n",
    "    plt.show()\n",
    "    \n",
    "    #print value from label below the image to confirm you plotted the right number\n",
    "    return y_train[idx,]"
   ]
  },
  {
   "cell_type": "code",
   "execution_count": 16,
   "metadata": {},
   "outputs": [
    {
     "data": {
      "image/png": "[encoded data removed]",
      "text/plain": [
       "<Figure size 504x504 with 1 Axes>"
      ]
     },
     "metadata": {
      "needs_background": "light"
     },
     "output_type": "display_data"
    },
    {
     "name": "stdout",
     "output_type": "stream",
     "text": [
      "4"
     ]
    },
    {
     "data": {
      "image/png": "[encoded data removed]",
      "text/plain": [
       "<Figure size 504x504 with 1 Axes>"
      ]
     },
     "metadata": {
      "needs_background": "light"
     },
     "output_type": "display_data"
    },
    {
     "name": "stdout",
     "output_type": "stream",
     "text": [
      "7"
     ]
    },
    {
     "data": {
      "image/png": "[encoded data removed]",
      "text/plain": [
       "<Figure size 504x504 with 1 Axes>"
      ]
     },
     "metadata": {
      "needs_background": "light"
     },
     "output_type": "display_data"
    },
    {
     "name": "stdout",
     "output_type": "stream",
     "text": [
      "0"
     ]
    }
   ],
   "source": [
    "#loop submitting index values that will return number images\n",
    "num = [150, 370, 1000]\n",
    "\n",
    "#loop between indices and plot numbers\n",
    "for i in num:\n",
    "    p = num_gen(i)\n",
    "    print(p, end=\"\")"
   ]
  },
  {
   "cell_type": "code",
   "execution_count": 26,
   "metadata": {},
   "outputs": [],
   "source": [
    "def conf_mat(y, y_hat):\n",
    "    #load series of values into a dictionary with two items\n",
    "    data = {'y_Actual':    y, 'y_Predicted': y_hat}\n",
    "    \n",
    "    #building a confusion matrix from data loaded into the data dictionary\n",
    "    df = pd.DataFrame(data, columns=['y_Actual','y_Predicted'])\n",
    "    confusion_matrix = pd.crosstab(df['y_Actual'], df['y_Predicted'], rownames=['Actual'], colnames=['Predicted'])\n",
    "\n",
    "    #plot the confusion matrix heat map\n",
    "    plt.figure(figsize=(10,6))\n",
    "    plt.title(\"Confusion Matrix\")\n",
    "    sns.heatmap(confusion_matrix, cmap='gnuplot_r', annot=True)\n",
    "    re = (confusion_matrix, plt.show())\n",
    "    \n",
    "    return re"
   ]
  },
  {
   "cell_type": "code",
   "execution_count": 27,
   "metadata": {},
   "outputs": [
    {
     "data": {
      "image/png": "[encoded data removed]",
      "text/plain": [
       "<Figure size 720x432 with 2 Axes>"
      ]
     },
     "metadata": {
      "needs_background": "light"
     },
     "output_type": "display_data"
    },
    {
     "data": {
      "text/plain": [
       "(Predicted     0     1     2     3     4    5     6     7     8     9\n",
       " Actual                                                              \n",
       " 0          1162     1     6     2     0    0     3     1    17     2\n",
       " 1             1  1215    14     2     2    1     9     1    26     1\n",
       " 2             5     5  1110    17     5    0     6     1    47     0\n",
       " 3             9     4    23  1090     0   13     5     3    81    14\n",
       " 4             0     6    24     2  1048    0     2     7    13    85\n",
       " 5            14     0    10    47     2  906    25     4    72    17\n",
       " 6             3     2     5     0     2    8  1135     0    14     1\n",
       " 7             4     3     0    14    26    0     0  1113    12   125\n",
       " 8            12    21    19    24     2    7     6     4  1094     9\n",
       " 9             5     2     1     9    11    1     0    34    33  1051,\n",
       " None)"
      ]
     },
     "execution_count": 27,
     "metadata": {},
     "output_type": "execute_result"
    }
   ],
   "source": [
    "#confusion matrix table for the tra\n",
    "confusion_table = conf_mat(y_val, y_hat)\n",
    "confusion_table"
   ]
  },
  {
   "cell_type": "code",
   "execution_count": null,
   "metadata": {},
   "outputs": [],
   "source": []
  }
 ],
 "metadata": {
  "kernelspec": {
   "display_name": "Python 3",
   "language": "python",
   "name": "python3"
  },
  "language_info": {
   "codemirror_mode": {
    "name": "ipython",
    "version": 3
   },
   "file_extension": ".py",
   "mimetype": "text/x-python",
   "name": "python",
   "nbconvert_exporter": "python",
   "pygments_lexer": "ipython3",
   "version": "3.8.3"
  }
 },
 "nbformat": 4,
 "nbformat_minor": 4
}
